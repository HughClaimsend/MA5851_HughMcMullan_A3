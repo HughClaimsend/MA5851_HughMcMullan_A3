{
  "nbformat": 4,
  "nbformat_minor": 0,
  "metadata": {
    "colab": {
      "name": "MA5851_Hugh_McMullan_A3_Part2_Selecting_Subset_of_Scraped_Posts_Data.ipynb",
      "provenance": [],
      "collapsed_sections": [],
      "include_colab_link": true
    },
    "kernelspec": {
      "name": "python3",
      "display_name": "Python 3"
    },
    "language_info": {
      "name": "python"
    }
  },
  "cells": [
    {
      "cell_type": "markdown",
      "metadata": {
        "id": "view-in-github",
        "colab_type": "text"
      },
      "source": [
        "<a href=\"https://colab.research.google.com/github/HughClaimsend/MA5851_HughMcMullan_A3/blob/main/MA5851_Hugh_McMullan_A3_Part2_Selecting_Subset_of_Scraped_Posts_Data.ipynb\" target=\"_parent\"><img src=\"https://colab.research.google.com/assets/colab-badge.svg\" alt=\"Open In Colab\"/></a>"
      ]
    },
    {
      "cell_type": "code",
      "metadata": {
        "id": "vKMMCpZt0rdT"
      },
      "source": [
        "# Import libraries needed for this notebook\n",
        "import pandas as pd\n",
        "import numpy as np\n",
        "from datetime import datetime, timedelta\n",
        "import matplotlib.pyplot as plt"
      ],
      "execution_count": null,
      "outputs": []
    },
    {
      "cell_type": "code",
      "metadata": {
        "colab": {
          "base_uri": "https://localhost:8080/"
        },
        "id": "oXJA7jAP3o6u",
        "outputId": "f27727f2-30b8-4498-f396-1a2f0bcc27eb"
      },
      "source": [
        "# The data files are located on the Google Drive, so do a drive.mount\n",
        "from google.colab import drive\n",
        "drive.mount('/content/drive')"
      ],
      "execution_count": null,
      "outputs": [
        {
          "output_type": "stream",
          "name": "stdout",
          "text": [
            "Mounted at /content/drive\n"
          ]
        }
      ]
    },
    {
      "cell_type": "code",
      "metadata": {
        "colab": {
          "base_uri": "https://localhost:8080/",
          "height": 424
        },
        "id": "tVUNGgFn3o3t",
        "outputId": "a6364f91-b4e2-4d25-9b37-4eb9c06005dc"
      },
      "source": [
        "# Read in the DronePosts.csv data, created in the Part 1 notebook\n",
        "dronepost_header_list = [\"dronesite_name\", \"dronesite_group\", \"thread_name\", \"thread_no\", \"post_datetime\", \"post_text\"]\n",
        "dfDronePosts = pd.read_csv('/content/drive/MyDrive/DronePosts_202112010705.csv', names=dronepost_header_list)\n",
        "display(dfDronePosts)"
      ],
      "execution_count": null,
      "outputs": [
        {
          "output_type": "display_data",
          "data": {
            "text/html": [
              "<div>\n",
              "<style scoped>\n",
              "    .dataframe tbody tr th:only-of-type {\n",
              "        vertical-align: middle;\n",
              "    }\n",
              "\n",
              "    .dataframe tbody tr th {\n",
              "        vertical-align: top;\n",
              "    }\n",
              "\n",
              "    .dataframe thead th {\n",
              "        text-align: right;\n",
              "    }\n",
              "</style>\n",
              "<table border=\"1\" class=\"dataframe\">\n",
              "  <thead>\n",
              "    <tr style=\"text-align: right;\">\n",
              "      <th></th>\n",
              "      <th>dronesite_name</th>\n",
              "      <th>dronesite_group</th>\n",
              "      <th>thread_name</th>\n",
              "      <th>thread_no</th>\n",
              "      <th>post_datetime</th>\n",
              "      <th>post_text</th>\n",
              "    </tr>\n",
              "  </thead>\n",
              "  <tbody>\n",
              "    <tr>\n",
              "      <th>0</th>\n",
              "      <td>MavicPilots</td>\n",
              "      <td>Private</td>\n",
              "      <td>Latest CASA newsletter re VLOS</td>\n",
              "      <td>117004</td>\n",
              "      <td>2021-10-07T19:15:52-0400</td>\n",
              "      <td>..\\nLatest CASA newsletter has VLOS article wh...</td>\n",
              "    </tr>\n",
              "    <tr>\n",
              "      <th>1</th>\n",
              "      <td>MavicPilots</td>\n",
              "      <td>Private</td>\n",
              "      <td>Latest CASA newsletter re VLOS</td>\n",
              "      <td>117004</td>\n",
              "      <td>2021-10-07T19:27:14-0400</td>\n",
              "      <td>I'm guessing they're making a distinction betw...</td>\n",
              "    </tr>\n",
              "    <tr>\n",
              "      <th>2</th>\n",
              "      <td>MavicPilots</td>\n",
              "      <td>Private</td>\n",
              "      <td>Latest CASA newsletter re VLOS</td>\n",
              "      <td>117004</td>\n",
              "      <td>2021-10-07T21:24:11-0400</td>\n",
              "      <td>If it’s like the US, the expectation is to use...</td>\n",
              "    </tr>\n",
              "    <tr>\n",
              "      <th>3</th>\n",
              "      <td>MavicPilots</td>\n",
              "      <td>Private</td>\n",
              "      <td>Latest CASA newsletter re VLOS</td>\n",
              "      <td>117004</td>\n",
              "      <td>2021-10-07T22:07:39-0400</td>\n",
              "      <td>CASA is not trying to tell us to keep our eyes...</td>\n",
              "    </tr>\n",
              "    <tr>\n",
              "      <th>4</th>\n",
              "      <td>MavicPilots</td>\n",
              "      <td>Private</td>\n",
              "      <td>Latest CASA newsletter re VLOS</td>\n",
              "      <td>117004</td>\n",
              "      <td>2021-10-07T23:27:14-0400</td>\n",
              "      <td>\\n\\nthispilothere said:\\n\\n\\n\\nI'm guessing th...</td>\n",
              "    </tr>\n",
              "    <tr>\n",
              "      <th>...</th>\n",
              "      <td>...</td>\n",
              "      <td>...</td>\n",
              "      <td>...</td>\n",
              "      <td>...</td>\n",
              "      <td>...</td>\n",
              "      <td>...</td>\n",
              "    </tr>\n",
              "    <tr>\n",
              "      <th>14858</th>\n",
              "      <td>InspirePilots</td>\n",
              "      <td>Commercial</td>\n",
              "      <td>Price of certification in Australia... Wtf??</td>\n",
              "      <td>t-3652</td>\n",
              "      <td>2015-06-09T21:17:28-0400</td>\n",
              "      <td>\\n\\nBrendan said:\\n\\n\\n\\n\\t\\t\\tWell looks like...</td>\n",
              "    </tr>\n",
              "    <tr>\n",
              "      <th>14859</th>\n",
              "      <td>InspirePilots</td>\n",
              "      <td>Commercial</td>\n",
              "      <td>Price of certification in Australia... Wtf??</td>\n",
              "      <td>t-3652</td>\n",
              "      <td>2015-06-09T21:57:25-0400</td>\n",
              "      <td>\\n\\nIan Fraser said:\\n\\n\\n\\n\\t\\t\\tOne huge pro...</td>\n",
              "    </tr>\n",
              "    <tr>\n",
              "      <th>14860</th>\n",
              "      <td>InspirePilots</td>\n",
              "      <td>Commercial</td>\n",
              "      <td>Price of certification in Australia... Wtf??</td>\n",
              "      <td>t-3652</td>\n",
              "      <td>2015-06-09T22:19:11-0400</td>\n",
              "      <td>\\n\\nBrendan said:\\n\\n\\n\\n\\t\\t\\tAs someone who ...</td>\n",
              "    </tr>\n",
              "    <tr>\n",
              "      <th>14861</th>\n",
              "      <td>InspirePilots</td>\n",
              "      <td>Commercial</td>\n",
              "      <td>Price of certification in Australia... Wtf??</td>\n",
              "      <td>t-3652</td>\n",
              "      <td>2015-06-10T18:15:41-0400</td>\n",
              "      <td>The big restriction with this sub 2kg ruling i...</td>\n",
              "    </tr>\n",
              "    <tr>\n",
              "      <th>14862</th>\n",
              "      <td>InspirePilots</td>\n",
              "      <td>Commercial</td>\n",
              "      <td>Price of certification in Australia... Wtf??</td>\n",
              "      <td>t-3652</td>\n",
              "      <td>2015-06-10T18:54:50-0400</td>\n",
              "      <td>But then how will they define populous areas? ...</td>\n",
              "    </tr>\n",
              "  </tbody>\n",
              "</table>\n",
              "<p>14863 rows × 6 columns</p>\n",
              "</div>"
            ],
            "text/plain": [
              "      dronesite_name  ...                                          post_text\n",
              "0        MavicPilots  ...  ..\\nLatest CASA newsletter has VLOS article wh...\n",
              "1        MavicPilots  ...  I'm guessing they're making a distinction betw...\n",
              "2        MavicPilots  ...  If it’s like the US, the expectation is to use...\n",
              "3        MavicPilots  ...  CASA is not trying to tell us to keep our eyes...\n",
              "4        MavicPilots  ...  \\n\\nthispilothere said:\\n\\n\\n\\nI'm guessing th...\n",
              "...              ...  ...                                                ...\n",
              "14858  InspirePilots  ...  \\n\\nBrendan said:\\n\\n\\n\\n\\t\\t\\tWell looks like...\n",
              "14859  InspirePilots  ...  \\n\\nIan Fraser said:\\n\\n\\n\\n\\t\\t\\tOne huge pro...\n",
              "14860  InspirePilots  ...  \\n\\nBrendan said:\\n\\n\\n\\n\\t\\t\\tAs someone who ...\n",
              "14861  InspirePilots  ...  The big restriction with this sub 2kg ruling i...\n",
              "14862  InspirePilots  ...  But then how will they define populous areas? ...\n",
              "\n",
              "[14863 rows x 6 columns]"
            ]
          },
          "metadata": {}
        }
      ]
    },
    {
      "cell_type": "code",
      "metadata": {
        "colab": {
          "base_uri": "https://localhost:8080/",
          "height": 424
        },
        "id": "QKmQejTdBABs",
        "outputId": "3d40c26a-a9fb-4089-dd92-acff777b0bb1"
      },
      "source": [
        "dfDronePosts['post_YYMM'] = dfDronePosts['post_datetime'].apply(lambda s: datetime.fromisoformat(s[:-5].replace(\"T\", \" \")).strftime(\"%Y%m\")[-4:])\n",
        "dfDronePosts['post_YYYY'] = dfDronePosts['post_YYMM'].apply(lambda s: \"20\" + s[:-2])\n",
        "display(dfDronePosts)"
      ],
      "execution_count": null,
      "outputs": [
        {
          "output_type": "display_data",
          "data": {
            "text/html": [
              "<div>\n",
              "<style scoped>\n",
              "    .dataframe tbody tr th:only-of-type {\n",
              "        vertical-align: middle;\n",
              "    }\n",
              "\n",
              "    .dataframe tbody tr th {\n",
              "        vertical-align: top;\n",
              "    }\n",
              "\n",
              "    .dataframe thead th {\n",
              "        text-align: right;\n",
              "    }\n",
              "</style>\n",
              "<table border=\"1\" class=\"dataframe\">\n",
              "  <thead>\n",
              "    <tr style=\"text-align: right;\">\n",
              "      <th></th>\n",
              "      <th>dronesite_name</th>\n",
              "      <th>dronesite_group</th>\n",
              "      <th>thread_name</th>\n",
              "      <th>thread_no</th>\n",
              "      <th>post_datetime</th>\n",
              "      <th>post_text</th>\n",
              "      <th>post_YYMM</th>\n",
              "      <th>post_YYYY</th>\n",
              "    </tr>\n",
              "  </thead>\n",
              "  <tbody>\n",
              "    <tr>\n",
              "      <th>0</th>\n",
              "      <td>MavicPilots</td>\n",
              "      <td>Private</td>\n",
              "      <td>Latest CASA newsletter re VLOS</td>\n",
              "      <td>117004</td>\n",
              "      <td>2021-10-07T19:15:52-0400</td>\n",
              "      <td>..\\nLatest CASA newsletter has VLOS article wh...</td>\n",
              "      <td>2110</td>\n",
              "      <td>2021</td>\n",
              "    </tr>\n",
              "    <tr>\n",
              "      <th>1</th>\n",
              "      <td>MavicPilots</td>\n",
              "      <td>Private</td>\n",
              "      <td>Latest CASA newsletter re VLOS</td>\n",
              "      <td>117004</td>\n",
              "      <td>2021-10-07T19:27:14-0400</td>\n",
              "      <td>I'm guessing they're making a distinction betw...</td>\n",
              "      <td>2110</td>\n",
              "      <td>2021</td>\n",
              "    </tr>\n",
              "    <tr>\n",
              "      <th>2</th>\n",
              "      <td>MavicPilots</td>\n",
              "      <td>Private</td>\n",
              "      <td>Latest CASA newsletter re VLOS</td>\n",
              "      <td>117004</td>\n",
              "      <td>2021-10-07T21:24:11-0400</td>\n",
              "      <td>If it’s like the US, the expectation is to use...</td>\n",
              "      <td>2110</td>\n",
              "      <td>2021</td>\n",
              "    </tr>\n",
              "    <tr>\n",
              "      <th>3</th>\n",
              "      <td>MavicPilots</td>\n",
              "      <td>Private</td>\n",
              "      <td>Latest CASA newsletter re VLOS</td>\n",
              "      <td>117004</td>\n",
              "      <td>2021-10-07T22:07:39-0400</td>\n",
              "      <td>CASA is not trying to tell us to keep our eyes...</td>\n",
              "      <td>2110</td>\n",
              "      <td>2021</td>\n",
              "    </tr>\n",
              "    <tr>\n",
              "      <th>4</th>\n",
              "      <td>MavicPilots</td>\n",
              "      <td>Private</td>\n",
              "      <td>Latest CASA newsletter re VLOS</td>\n",
              "      <td>117004</td>\n",
              "      <td>2021-10-07T23:27:14-0400</td>\n",
              "      <td>\\n\\nthispilothere said:\\n\\n\\n\\nI'm guessing th...</td>\n",
              "      <td>2110</td>\n",
              "      <td>2021</td>\n",
              "    </tr>\n",
              "    <tr>\n",
              "      <th>...</th>\n",
              "      <td>...</td>\n",
              "      <td>...</td>\n",
              "      <td>...</td>\n",
              "      <td>...</td>\n",
              "      <td>...</td>\n",
              "      <td>...</td>\n",
              "      <td>...</td>\n",
              "      <td>...</td>\n",
              "    </tr>\n",
              "    <tr>\n",
              "      <th>14858</th>\n",
              "      <td>InspirePilots</td>\n",
              "      <td>Commercial</td>\n",
              "      <td>Price of certification in Australia... Wtf??</td>\n",
              "      <td>t-3652</td>\n",
              "      <td>2015-06-09T21:17:28-0400</td>\n",
              "      <td>\\n\\nBrendan said:\\n\\n\\n\\n\\t\\t\\tWell looks like...</td>\n",
              "      <td>1506</td>\n",
              "      <td>2015</td>\n",
              "    </tr>\n",
              "    <tr>\n",
              "      <th>14859</th>\n",
              "      <td>InspirePilots</td>\n",
              "      <td>Commercial</td>\n",
              "      <td>Price of certification in Australia... Wtf??</td>\n",
              "      <td>t-3652</td>\n",
              "      <td>2015-06-09T21:57:25-0400</td>\n",
              "      <td>\\n\\nIan Fraser said:\\n\\n\\n\\n\\t\\t\\tOne huge pro...</td>\n",
              "      <td>1506</td>\n",
              "      <td>2015</td>\n",
              "    </tr>\n",
              "    <tr>\n",
              "      <th>14860</th>\n",
              "      <td>InspirePilots</td>\n",
              "      <td>Commercial</td>\n",
              "      <td>Price of certification in Australia... Wtf??</td>\n",
              "      <td>t-3652</td>\n",
              "      <td>2015-06-09T22:19:11-0400</td>\n",
              "      <td>\\n\\nBrendan said:\\n\\n\\n\\n\\t\\t\\tAs someone who ...</td>\n",
              "      <td>1506</td>\n",
              "      <td>2015</td>\n",
              "    </tr>\n",
              "    <tr>\n",
              "      <th>14861</th>\n",
              "      <td>InspirePilots</td>\n",
              "      <td>Commercial</td>\n",
              "      <td>Price of certification in Australia... Wtf??</td>\n",
              "      <td>t-3652</td>\n",
              "      <td>2015-06-10T18:15:41-0400</td>\n",
              "      <td>The big restriction with this sub 2kg ruling i...</td>\n",
              "      <td>1506</td>\n",
              "      <td>2015</td>\n",
              "    </tr>\n",
              "    <tr>\n",
              "      <th>14862</th>\n",
              "      <td>InspirePilots</td>\n",
              "      <td>Commercial</td>\n",
              "      <td>Price of certification in Australia... Wtf??</td>\n",
              "      <td>t-3652</td>\n",
              "      <td>2015-06-10T18:54:50-0400</td>\n",
              "      <td>But then how will they define populous areas? ...</td>\n",
              "      <td>1506</td>\n",
              "      <td>2015</td>\n",
              "    </tr>\n",
              "  </tbody>\n",
              "</table>\n",
              "<p>14863 rows × 8 columns</p>\n",
              "</div>"
            ],
            "text/plain": [
              "      dronesite_name dronesite_group  ... post_YYMM post_YYYY\n",
              "0        MavicPilots         Private  ...      2110      2021\n",
              "1        MavicPilots         Private  ...      2110      2021\n",
              "2        MavicPilots         Private  ...      2110      2021\n",
              "3        MavicPilots         Private  ...      2110      2021\n",
              "4        MavicPilots         Private  ...      2110      2021\n",
              "...              ...             ...  ...       ...       ...\n",
              "14858  InspirePilots      Commercial  ...      1506      2015\n",
              "14859  InspirePilots      Commercial  ...      1506      2015\n",
              "14860  InspirePilots      Commercial  ...      1506      2015\n",
              "14861  InspirePilots      Commercial  ...      1506      2015\n",
              "14862  InspirePilots      Commercial  ...      1506      2015\n",
              "\n",
              "[14863 rows x 8 columns]"
            ]
          },
          "metadata": {}
        }
      ]
    },
    {
      "cell_type": "code",
      "metadata": {
        "colab": {
          "base_uri": "https://localhost:8080/",
          "height": 332
        },
        "id": "TiyxHdxfIRNm",
        "outputId": "16569d14-d600-4a14-cb8a-e5f2721e7e24"
      },
      "source": [
        "pivotPostsBySite = dfDronePosts.pivot_table(values='dronesite_group', index='post_YYYY', columns='dronesite_name', aggfunc='count', fill_value=0)\n",
        "pivotPostsBySite"
      ],
      "execution_count": null,
      "outputs": [
        {
          "output_type": "execute_result",
          "data": {
            "text/html": [
              "<div>\n",
              "<style scoped>\n",
              "    .dataframe tbody tr th:only-of-type {\n",
              "        vertical-align: middle;\n",
              "    }\n",
              "\n",
              "    .dataframe tbody tr th {\n",
              "        vertical-align: top;\n",
              "    }\n",
              "\n",
              "    .dataframe thead th {\n",
              "        text-align: right;\n",
              "    }\n",
              "</style>\n",
              "<table border=\"1\" class=\"dataframe\">\n",
              "  <thead>\n",
              "    <tr style=\"text-align: right;\">\n",
              "      <th>dronesite_name</th>\n",
              "      <th>CommercialDronePilots</th>\n",
              "      <th>FPVDronePilots</th>\n",
              "      <th>InspirePilots</th>\n",
              "      <th>MatricePilots</th>\n",
              "      <th>MavicPilots</th>\n",
              "      <th>PhantomPilots</th>\n",
              "    </tr>\n",
              "    <tr>\n",
              "      <th>post_YYYY</th>\n",
              "      <th></th>\n",
              "      <th></th>\n",
              "      <th></th>\n",
              "      <th></th>\n",
              "      <th></th>\n",
              "      <th></th>\n",
              "    </tr>\n",
              "  </thead>\n",
              "  <tbody>\n",
              "    <tr>\n",
              "      <th>2013</th>\n",
              "      <td>0</td>\n",
              "      <td>0</td>\n",
              "      <td>0</td>\n",
              "      <td>0</td>\n",
              "      <td>0</td>\n",
              "      <td>20</td>\n",
              "    </tr>\n",
              "    <tr>\n",
              "      <th>2015</th>\n",
              "      <td>0</td>\n",
              "      <td>0</td>\n",
              "      <td>984</td>\n",
              "      <td>2278</td>\n",
              "      <td>0</td>\n",
              "      <td>2</td>\n",
              "    </tr>\n",
              "    <tr>\n",
              "      <th>2016</th>\n",
              "      <td>0</td>\n",
              "      <td>110</td>\n",
              "      <td>1637</td>\n",
              "      <td>1255</td>\n",
              "      <td>80</td>\n",
              "      <td>80</td>\n",
              "    </tr>\n",
              "    <tr>\n",
              "      <th>2017</th>\n",
              "      <td>0</td>\n",
              "      <td>0</td>\n",
              "      <td>139</td>\n",
              "      <td>1</td>\n",
              "      <td>0</td>\n",
              "      <td>609</td>\n",
              "    </tr>\n",
              "    <tr>\n",
              "      <th>2018</th>\n",
              "      <td>2188</td>\n",
              "      <td>0</td>\n",
              "      <td>143</td>\n",
              "      <td>9</td>\n",
              "      <td>21</td>\n",
              "      <td>846</td>\n",
              "    </tr>\n",
              "    <tr>\n",
              "      <th>2019</th>\n",
              "      <td>76</td>\n",
              "      <td>0</td>\n",
              "      <td>17</td>\n",
              "      <td>0</td>\n",
              "      <td>67</td>\n",
              "      <td>1214</td>\n",
              "    </tr>\n",
              "    <tr>\n",
              "      <th>2020</th>\n",
              "      <td>14</td>\n",
              "      <td>0</td>\n",
              "      <td>52</td>\n",
              "      <td>0</td>\n",
              "      <td>818</td>\n",
              "      <td>117</td>\n",
              "    </tr>\n",
              "    <tr>\n",
              "      <th>2021</th>\n",
              "      <td>17</td>\n",
              "      <td>30</td>\n",
              "      <td>100</td>\n",
              "      <td>0</td>\n",
              "      <td>1850</td>\n",
              "      <td>89</td>\n",
              "    </tr>\n",
              "  </tbody>\n",
              "</table>\n",
              "</div>"
            ],
            "text/plain": [
              "dronesite_name  CommercialDronePilots  ...  PhantomPilots\n",
              "post_YYYY                              ...               \n",
              "2013                                0  ...             20\n",
              "2015                                0  ...              2\n",
              "2016                                0  ...             80\n",
              "2017                                0  ...            609\n",
              "2018                             2188  ...            846\n",
              "2019                               76  ...           1214\n",
              "2020                               14  ...            117\n",
              "2021                               17  ...             89\n",
              "\n",
              "[8 rows x 6 columns]"
            ]
          },
          "metadata": {},
          "execution_count": 5
        }
      ]
    },
    {
      "cell_type": "code",
      "metadata": {
        "colab": {
          "base_uri": "https://localhost:8080/",
          "height": 332
        },
        "id": "PK2mq4iARxif",
        "outputId": "9ab17725-4cf5-42f5-f30d-48200a270611"
      },
      "source": [
        "pivotPostsByGroup = dfDronePosts.pivot_table(values='dronesite_name', index='post_YYYY', columns='dronesite_group', aggfunc='count', fill_value=0)\n",
        "pivotPostsByGroup"
      ],
      "execution_count": null,
      "outputs": [
        {
          "output_type": "execute_result",
          "data": {
            "text/html": [
              "<div>\n",
              "<style scoped>\n",
              "    .dataframe tbody tr th:only-of-type {\n",
              "        vertical-align: middle;\n",
              "    }\n",
              "\n",
              "    .dataframe tbody tr th {\n",
              "        vertical-align: top;\n",
              "    }\n",
              "\n",
              "    .dataframe thead th {\n",
              "        text-align: right;\n",
              "    }\n",
              "</style>\n",
              "<table border=\"1\" class=\"dataframe\">\n",
              "  <thead>\n",
              "    <tr style=\"text-align: right;\">\n",
              "      <th>dronesite_group</th>\n",
              "      <th>Commercial</th>\n",
              "      <th>Private</th>\n",
              "    </tr>\n",
              "    <tr>\n",
              "      <th>post_YYYY</th>\n",
              "      <th></th>\n",
              "      <th></th>\n",
              "    </tr>\n",
              "  </thead>\n",
              "  <tbody>\n",
              "    <tr>\n",
              "      <th>2013</th>\n",
              "      <td>0</td>\n",
              "      <td>20</td>\n",
              "    </tr>\n",
              "    <tr>\n",
              "      <th>2015</th>\n",
              "      <td>3262</td>\n",
              "      <td>2</td>\n",
              "    </tr>\n",
              "    <tr>\n",
              "      <th>2016</th>\n",
              "      <td>2892</td>\n",
              "      <td>270</td>\n",
              "    </tr>\n",
              "    <tr>\n",
              "      <th>2017</th>\n",
              "      <td>140</td>\n",
              "      <td>609</td>\n",
              "    </tr>\n",
              "    <tr>\n",
              "      <th>2018</th>\n",
              "      <td>2340</td>\n",
              "      <td>867</td>\n",
              "    </tr>\n",
              "    <tr>\n",
              "      <th>2019</th>\n",
              "      <td>93</td>\n",
              "      <td>1281</td>\n",
              "    </tr>\n",
              "    <tr>\n",
              "      <th>2020</th>\n",
              "      <td>66</td>\n",
              "      <td>935</td>\n",
              "    </tr>\n",
              "    <tr>\n",
              "      <th>2021</th>\n",
              "      <td>117</td>\n",
              "      <td>1969</td>\n",
              "    </tr>\n",
              "  </tbody>\n",
              "</table>\n",
              "</div>"
            ],
            "text/plain": [
              "dronesite_group  Commercial  Private\n",
              "post_YYYY                           \n",
              "2013                      0       20\n",
              "2015                   3262        2\n",
              "2016                   2892      270\n",
              "2017                    140      609\n",
              "2018                   2340      867\n",
              "2019                     93     1281\n",
              "2020                     66      935\n",
              "2021                    117     1969"
            ]
          },
          "metadata": {},
          "execution_count": 6
        }
      ]
    },
    {
      "cell_type": "code",
      "metadata": {
        "colab": {
          "base_uri": "https://localhost:8080/",
          "height": 314
        },
        "id": "D3Nq-1n9LtZB",
        "outputId": "29a94a44-2002-426c-f853-7dd7d8c4f87f"
      },
      "source": [
        "dfDronePosts.groupby('post_YYYY')['dronesite_name']\\\n",
        "    .value_counts()\\\n",
        "    .unstack(level=1)\\\n",
        "    .plot.bar(stacked=True)"
      ],
      "execution_count": null,
      "outputs": [
        {
          "output_type": "execute_result",
          "data": {
            "text/plain": [
              "<matplotlib.axes._subplots.AxesSubplot at 0x7f7624489a10>"
            ]
          },
          "metadata": {},
          "execution_count": 7
        },
        {
          "output_type": "display_data",
          "data": {
            "image/png": "[encoded data removed]",
            "text/plain": [
              "<Figure size 432x288 with 1 Axes>"
            ]
          },
          "metadata": {
            "needs_background": "light"
          }
        }
      ]
    },
    {
      "cell_type": "markdown",
      "metadata": {
        "id": "sYyaVU8zyU1H"
      },
      "source": [
        "**Take posts from 2018 onwards**"
      ]
    },
    {
      "cell_type": "code",
      "metadata": {
        "colab": {
          "base_uri": "https://localhost:8080/",
          "height": 424
        },
        "id": "nNpG3-1xOaPq",
        "outputId": "8667b739-11c8-4d56-ec68-1fcf2c66bd6d"
      },
      "source": [
        "dfSince2018 = dfDronePosts[dfDronePosts['post_YYYY'] >= '2018'][['dronesite_group', 'thread_name', 'post_YYMM', 'post_YYYY', 'post_text']]\n",
        "display(dfSince2018)"
      ],
      "execution_count": null,
      "outputs": [
        {
          "output_type": "display_data",
          "data": {
            "text/html": [
              "<div>\n",
              "<style scoped>\n",
              "    .dataframe tbody tr th:only-of-type {\n",
              "        vertical-align: middle;\n",
              "    }\n",
              "\n",
              "    .dataframe tbody tr th {\n",
              "        vertical-align: top;\n",
              "    }\n",
              "\n",
              "    .dataframe thead th {\n",
              "        text-align: right;\n",
              "    }\n",
              "</style>\n",
              "<table border=\"1\" class=\"dataframe\">\n",
              "  <thead>\n",
              "    <tr style=\"text-align: right;\">\n",
              "      <th></th>\n",
              "      <th>dronesite_group</th>\n",
              "      <th>thread_name</th>\n",
              "      <th>post_YYMM</th>\n",
              "      <th>post_YYYY</th>\n",
              "      <th>post_text</th>\n",
              "    </tr>\n",
              "  </thead>\n",
              "  <tbody>\n",
              "    <tr>\n",
              "      <th>0</th>\n",
              "      <td>Private</td>\n",
              "      <td>Latest CASA newsletter re VLOS</td>\n",
              "      <td>2110</td>\n",
              "      <td>2021</td>\n",
              "      <td>..\\nLatest CASA newsletter has VLOS article wh...</td>\n",
              "    </tr>\n",
              "    <tr>\n",
              "      <th>1</th>\n",
              "      <td>Private</td>\n",
              "      <td>Latest CASA newsletter re VLOS</td>\n",
              "      <td>2110</td>\n",
              "      <td>2021</td>\n",
              "      <td>I'm guessing they're making a distinction betw...</td>\n",
              "    </tr>\n",
              "    <tr>\n",
              "      <th>2</th>\n",
              "      <td>Private</td>\n",
              "      <td>Latest CASA newsletter re VLOS</td>\n",
              "      <td>2110</td>\n",
              "      <td>2021</td>\n",
              "      <td>If it’s like the US, the expectation is to use...</td>\n",
              "    </tr>\n",
              "    <tr>\n",
              "      <th>3</th>\n",
              "      <td>Private</td>\n",
              "      <td>Latest CASA newsletter re VLOS</td>\n",
              "      <td>2110</td>\n",
              "      <td>2021</td>\n",
              "      <td>CASA is not trying to tell us to keep our eyes...</td>\n",
              "    </tr>\n",
              "    <tr>\n",
              "      <th>4</th>\n",
              "      <td>Private</td>\n",
              "      <td>Latest CASA newsletter re VLOS</td>\n",
              "      <td>2110</td>\n",
              "      <td>2021</td>\n",
              "      <td>\\n\\nthispilothere said:\\n\\n\\n\\nI'm guessing th...</td>\n",
              "    </tr>\n",
              "    <tr>\n",
              "      <th>...</th>\n",
              "      <td>...</td>\n",
              "      <td>...</td>\n",
              "      <td>...</td>\n",
              "      <td>...</td>\n",
              "      <td>...</td>\n",
              "    </tr>\n",
              "    <tr>\n",
              "      <th>12146</th>\n",
              "      <td>Commercial</td>\n",
              "      <td>Litchi wapoint missions</td>\n",
              "      <td>2007</td>\n",
              "      <td>2020</td>\n",
              "      <td>Would anyone be interested in flying gently cu...</td>\n",
              "    </tr>\n",
              "    <tr>\n",
              "      <th>12200</th>\n",
              "      <td>Commercial</td>\n",
              "      <td>Beseno Castle in 6K</td>\n",
              "      <td>1903</td>\n",
              "      <td>2019</td>\n",
              "      <td>\\n\\n\\n\\n\\nCastel Beseno is an impressive fortr...</td>\n",
              "    </tr>\n",
              "    <tr>\n",
              "      <th>12457</th>\n",
              "      <td>Commercial</td>\n",
              "      <td>Val Formazza Mountains and a stunning Waterfal...</td>\n",
              "      <td>1804</td>\n",
              "      <td>2018</td>\n",
              "      <td>\\n\\n\\n\\nAerial footage of one of Italy's hidde...</td>\n",
              "    </tr>\n",
              "    <tr>\n",
              "      <th>12458</th>\n",
              "      <td>Commercial</td>\n",
              "      <td>Val Formazza Mountains and a stunning Waterfal...</td>\n",
              "      <td>1804</td>\n",
              "      <td>2018</td>\n",
              "      <td>As always, your video is stunning. As good as ...</td>\n",
              "    </tr>\n",
              "    <tr>\n",
              "      <th>14842</th>\n",
              "      <td>Commercial</td>\n",
              "      <td>Avoid non-DJI 1345S Quick Release Prop Mounts</td>\n",
              "      <td>1812</td>\n",
              "      <td>2018</td>\n",
              "      <td>I have been using the quick release props with...</td>\n",
              "    </tr>\n",
              "  </tbody>\n",
              "</table>\n",
              "<p>7668 rows × 5 columns</p>\n",
              "</div>"
            ],
            "text/plain": [
              "      dronesite_group  ...                                          post_text\n",
              "0             Private  ...  ..\\nLatest CASA newsletter has VLOS article wh...\n",
              "1             Private  ...  I'm guessing they're making a distinction betw...\n",
              "2             Private  ...  If it’s like the US, the expectation is to use...\n",
              "3             Private  ...  CASA is not trying to tell us to keep our eyes...\n",
              "4             Private  ...  \\n\\nthispilothere said:\\n\\n\\n\\nI'm guessing th...\n",
              "...               ...  ...                                                ...\n",
              "12146      Commercial  ...  Would anyone be interested in flying gently cu...\n",
              "12200      Commercial  ...  \\n\\n\\n\\n\\nCastel Beseno is an impressive fortr...\n",
              "12457      Commercial  ...  \\n\\n\\n\\nAerial footage of one of Italy's hidde...\n",
              "12458      Commercial  ...  As always, your video is stunning. As good as ...\n",
              "14842      Commercial  ...  I have been using the quick release props with...\n",
              "\n",
              "[7668 rows x 5 columns]"
            ]
          },
          "metadata": {}
        }
      ]
    },
    {
      "cell_type": "code",
      "metadata": {
        "colab": {
          "base_uri": "https://localhost:8080/",
          "height": 316
        },
        "id": "dwsErr7iQa0B",
        "outputId": "b6dc39dc-84a7-4a50-a5a1-67187d262911"
      },
      "source": [
        "dfSince2018.groupby('post_YYMM')['dronesite_group']\\\n",
        "    .value_counts()\\\n",
        "    .unstack(level=1)\\\n",
        "    .plot.bar(stacked=True)"
      ],
      "execution_count": null,
      "outputs": [
        {
          "output_type": "execute_result",
          "data": {
            "text/plain": [
              "<matplotlib.axes._subplots.AxesSubplot at 0x7f761ec81350>"
            ]
          },
          "metadata": {},
          "execution_count": 13
        },
        {
          "output_type": "display_data",
          "data": {
            "image/png": "[encoded data removed]",
            "text/plain": [
              "<Figure size 432x288 with 1 Axes>"
            ]
          },
          "metadata": {
            "needs_background": "light"
          }
        }
      ]
    },
    {
      "cell_type": "code",
      "metadata": {
        "id": "PFU2Fw5YzR03",
        "colab": {
          "base_uri": "https://localhost:8080/"
        },
        "outputId": "2bbf6e17-ec4f-4d90-8d35-6d8a19b92c44"
      },
      "source": [
        "dfSince2018.info()"
      ],
      "execution_count": null,
      "outputs": [
        {
          "output_type": "stream",
          "name": "stdout",
          "text": [
            "<class 'pandas.core.frame.DataFrame'>\n",
            "Int64Index: 7668 entries, 0 to 14842\n",
            "Data columns (total 5 columns):\n",
            " #   Column           Non-Null Count  Dtype \n",
            "---  ------           --------------  ----- \n",
            " 0   dronesite_group  7668 non-null   object\n",
            " 1   thread_name      7668 non-null   object\n",
            " 2   post_YYMM        7668 non-null   object\n",
            " 3   post_YYYY        7668 non-null   object\n",
            " 4   post_text        7667 non-null   object\n",
            "dtypes: object(5)\n",
            "memory usage: 359.4+ KB\n"
          ]
        }
      ]
    },
    {
      "cell_type": "code",
      "metadata": {
        "id": "neWFgOfCS0xv"
      },
      "source": [
        "dfSince2018.to_csv('/content/drive/MyDrive/DronePostsSince2018_202112041100.csv')"
      ],
      "execution_count": null,
      "outputs": []
    }
  ]
}